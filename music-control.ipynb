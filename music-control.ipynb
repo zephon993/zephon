{
 "cells": [
  {
   "cell_type": "markdown",
   "metadata": {
    "collapsed": false
   },
   "source": [
    "# 项目介绍\n",
    "原先的项目构思是通过摄像头收集人脸情绪进行识别进而智能更换音乐歌曲，但由于情绪识别往往是一瞬间的情感（我们很少会一直笑，一直激动，有可能上一秒机器识别到情绪为高兴而放喜庆的音乐，但下一秒我们的情绪已经平复导致原本将要播放的歌曲一下子又更换了，也可能放到高潮部分因为情绪的错误识别而将歌曲替换，导致效果不佳，所以最终决定采用更为稳定的手势识别方式来进行对音乐播放器的控制）本项目旨在通过手势识别来控制音乐播放器，以满足某些场合下，不方便直接操控音乐软件的需求。"
   ]
  },
  {
   "cell_type": "markdown",
   "metadata": {
    "collapsed": false
   },
   "source": [
    "# 灵感来源\n",
    "    在一些公共的场合如理发店、奶茶店、餐厅等都会播放音乐来调节气氛，而音乐的控制方式是直接运用电脑来操控（固定位置操控），有时候碰到不想听的、让客人反感的歌曲，或者歌曲音量过大过低的情况，往往需要工作人员亲自过去更换，如果正在忙走不开，也只能等歌曲播放完自动切换（如理发师正在理发、服务员正在为客户点餐），为了使用户的体验更佳，并且给予客人对音乐环境的控制权力（客人也可以通过自己的手势来控制音乐的播放及切换），我想部署一个可以通过手势控制的智能音乐盒在此类场景，便于对背景音乐进行控制，后期将基于文字识别模型，让用户可自行点歌（客户对音乐盒摄像头展现出想听的歌曲名字，机器进行识别播放）。"
   ]
  },
  {
   "cell_type": "markdown",
   "metadata": {
    "collapsed": false
   },
   "source": [
    "# 一、数据集说明\n",
    "\n",
    "* 本项目使用的数据集是：自定义的手势数据集，数据来源于aistudio中的公开数据集，并将这些数据集进行重新整合。每一种手势对应一种音乐播放器的控制操作。\n",
    "\n",
    "该数据集已加载至本环境中，位于：**data/data103092/hand-music.zip**"
   ]
  },
  {
   "cell_type": "code",
   "execution_count": 2,
   "metadata": {
    "collapsed": false
   },
   "outputs": [],
   "source": [
    "## 解压数据集（解压一次即可，请勿重复解压）\r\n",
    "!unzip -q -o data/data103092/hand-music.zip"
   ]
  },
  {
   "cell_type": "markdown",
   "metadata": {
    "collapsed": false
   },
   "source": [
    "解压完成后，左侧文件夹处会多一个名为hand-music的文件夹，该文件夹下有2个子文件夹：\n",
    "\n",
    "1. **Annotations图像文件**\n",
    "1. **Annotations标注文件**\n"
   ]
  },
  {
   "cell_type": "code",
   "execution_count": 5,
   "metadata": {
    "collapsed": false
   },
   "outputs": [
    {
     "name": "stdout",
     "output_type": "stream",
     "text": [
      "hand-music\r\n",
      "├── Annotations\r\n",
      "└── JPEGImages\r\n",
      "\r\n",
      "2 directories, 0 files\r\n"
     ]
    }
   ],
   "source": [
    "# 查看数据集文件结构\r\n",
    "!tree hand-music -L 1"
   ]
  },
  {
   "cell_type": "markdown",
   "metadata": {
    "collapsed": false
   },
   "source": [
    "# 二、数据准备\n",
    "\n",
    "本基线系统使用的数据格式是PascalVOC格式，开发者基于PaddleX开发目标检测模型时，无需对数据格式进行转换，开箱即用。\n",
    "\n",
    "但为了进行训练，还需要将数据划分为训练集、验证集和测试集。划分之前首先需要**安装PaddleX**。"
   ]
  },
  {
   "cell_type": "code",
   "execution_count": 9,
   "metadata": {
    "collapsed": false
   },
   "outputs": [],
   "source": [
    "#安装paddlex\r\n",
    "!pip install paddlex"
   ]
  },
  {
   "cell_type": "code",
   "execution_count": 11,
   "metadata": {
    "collapsed": false
   },
   "outputs": [],
   "source": [
    "#调用一些要用到的库\r\n",
    "import paddlex as pdx\r\n",
    "import cv2\r\n",
    "import numpy as np"
   ]
  },
  {
   "cell_type": "markdown",
   "metadata": {
    "collapsed": false
   },
   "source": [
    "使用如下命令即可将数据划分为70%训练集，20%验证集和10%的测试集。"
   ]
  },
  {
   "cell_type": "code",
   "execution_count": 12,
   "metadata": {
    "collapsed": false
   },
   "outputs": [
    {
     "name": "stdout",
     "output_type": "stream",
     "text": [
      "/opt/conda/envs/python35-paddle120-env/lib/python3.7/site-packages/setuptools/depends.py:2: DeprecationWarning: the imp module is deprecated in favour of importlib; see the module's documentation for alternative uses\n",
      "  import imp\n",
      "Dataset Split Done.\n",
      "Train samples: 883\n",
      "Eval samples: 251\n",
      "Test samples: 125\n",
      "Split files saved in hand-music\n"
     ]
    }
   ],
   "source": [
    "!paddlex --split_dataset --format VOC --dataset_dir hand-music --val_value 0.2 --test_value 0.1"
   ]
  },
  {
   "cell_type": "code",
   "execution_count": 13,
   "metadata": {
    "collapsed": false
   },
   "outputs": [
    {
     "name": "stdout",
     "output_type": "stream",
     "text": [
      "hand-music\r\n",
      "├── Annotations\r\n",
      "├── JPEGImages\r\n",
      "├── labels.txt\r\n",
      "├── test_list.txt\r\n",
      "├── train_list.txt\r\n",
      "└── val_list.txt\r\n",
      "\r\n",
      "2 directories, 4 files\r\n"
     ]
    }
   ],
   "source": [
    "#数据划分效果\r\n",
    "!tree hand-music -L 1"
   ]
  },
  {
   "cell_type": "markdown",
   "metadata": {
    "collapsed": false
   },
   "source": [
    "# 三、数据预处理\n",
    "\n",
    "在训练模型之前，对目标检测任务的数据进行操作，从而提升模型效果。可用于数据处理的API有：\n",
    "- **Normalize**：对图像进行归一化\n",
    "- **ResizeByShort**：根据图像的短边调整图像大小\n",
    "- **RandomHorizontalFlip**：以一定的概率对图像进行随机水平翻转\n",
    "- **RandomDistort**：以一定的概率对图像进行随机像素内容变换\n",
    "\n",
    "更多关于数据处理的API及使用说明可查看文档：\n",
    "[https://paddlex.readthedocs.io/zh_CN/release-1.3/apis/transforms/det_transforms.html](https://paddlex.readthedocs.io/zh_CN/release-1.3/apis/transforms/det_transforms.html)"
   ]
  },
  {
   "cell_type": "code",
   "execution_count": 7,
   "metadata": {
    "collapsed": false
   },
   "outputs": [],
   "source": [
    "from paddlex.det import transforms\r\n",
    "# 定义训练和验证时的transforms\r\n",
    "# API说明 https://paddlex.readthedocs.io/zh_CN/develop/apis/transforms/det_transforms.html\r\n",
    "train_transforms = transforms.Compose([\r\n",
    "    # 此处需要补充图像预处理代码\r\n",
    "    transforms.Resize(target_size=608, interp='LINEAR'),\r\n",
    "    transforms.RandomHorizontalFlip(prob=0.5),\r\n",
    "    transforms.Normalize(mean=[0.485, 0.456, 0.406], std=[0.229, 0.224, 0.225], min_val=[0., 0., 0.], max_val=[255., 255., 255.])\r\n",
    "\r\n",
    "])\r\n",
    "\r\n",
    "eval_transforms = transforms.Compose([\r\n",
    "    # 此处需要补充图像预处理代码\r\n",
    "    transforms.Resize(target_size=608, interp='LINEAR'),\r\n",
    "    transforms.Normalize(mean=[0.485, 0.456, 0.406], std=[0.229, 0.224, 0.225], min_val=[0., 0., 0.], max_val=[255., 255., 255.])\r\n",
    "])\r\n",
    "\r\n"
   ]
  },
  {
   "cell_type": "code",
   "execution_count": 8,
   "metadata": {
    "collapsed": false
   },
   "outputs": [
    {
     "name": "stderr",
     "output_type": "stream",
     "text": [
      "/opt/conda/envs/python35-paddle120-env/lib/python3.7/site-packages/matplotlib/__init__.py:107: DeprecationWarning: Using or importing the ABCs from 'collections' instead of from 'collections.abc' is deprecated, and in 3.8 it will stop working\n",
      "  from collections import MutableMapping\n",
      "/opt/conda/envs/python35-paddle120-env/lib/python3.7/site-packages/matplotlib/rcsetup.py:20: DeprecationWarning: Using or importing the ABCs from 'collections' instead of from 'collections.abc' is deprecated, and in 3.8 it will stop working\n",
      "  from collections import Iterable, Mapping\n",
      "/opt/conda/envs/python35-paddle120-env/lib/python3.7/site-packages/matplotlib/colors.py:53: DeprecationWarning: Using or importing the ABCs from 'collections' instead of from 'collections.abc' is deprecated, and in 3.8 it will stop working\n",
      "  from collections import Sized\n",
      "2021-08-14 09:51:12,109 - INFO - font search path ['/opt/conda/envs/python35-paddle120-env/lib/python3.7/site-packages/matplotlib/mpl-data/fonts/ttf', '/opt/conda/envs/python35-paddle120-env/lib/python3.7/site-packages/matplotlib/mpl-data/fonts/afm', '/opt/conda/envs/python35-paddle120-env/lib/python3.7/site-packages/matplotlib/mpl-data/fonts/pdfcorefonts']\n",
      "2021-08-14 09:51:12,515 - INFO - generated new fontManager\n"
     ]
    },
    {
     "name": "stdout",
     "output_type": "stream",
     "text": [
      "2021-08-14 09:51:12 [INFO]\tStarting to read file list from dataset...\n",
      "2021-08-14 09:51:13 [INFO]\t883 samples in file hand-music/train_list.txt\n",
      "creating index...\n",
      "index created!\n",
      "2021-08-14 09:51:13 [INFO]\tStarting to read file list from dataset...\n",
      "2021-08-14 09:51:13 [INFO]\t251 samples in file hand-music/val_list.txt\n",
      "creating index...\n",
      "index created!\n"
     ]
    }
   ],
   "source": [
    "# 定义训练和验证所用的数据集\r\n",
    "train_dataset = pdx.datasets.VOCDetection(\r\n",
    "    data_dir='hand-music',\r\n",
    "    file_list='hand-music/train_list.txt',\r\n",
    "    label_list='hand-music/labels.txt',\r\n",
    "    transforms=train_transforms,\r\n",
    "    shuffle=True)\r\n",
    "\r\n",
    "eval_dataset = pdx.datasets.VOCDetection(\r\n",
    "    data_dir='hand-music',\r\n",
    "    file_list='hand-music/val_list.txt',\r\n",
    "    label_list='hand-music/labels.txt',\r\n",
    "    transforms=eval_transforms,\r\n",
    "    shuffle=False)"
   ]
  },
  {
   "cell_type": "markdown",
   "metadata": {
    "collapsed": false
   },
   "source": [
    "# 四、模型训练\n",
    "\n",
    "PaddleX目前提供了FasterRCNN和YOLOv3两种检测结构，多种backbone模型。本基线系统以骨干网络为MobileNetV1的YOLOv3算法为例。"
   ]
  },
  {
   "cell_type": "code",
   "execution_count": 9,
   "metadata": {
    "collapsed": false
   },
   "outputs": [],
   "source": [
    "#初始化模型\r\n",
    "num_classes = len(train_dataset.labels)\r\n",
    "model = pdx.det.YOLOv3(num_classes=num_classes, backbone='MobileNetV1')"
   ]
  },
  {
   "cell_type": "code",
   "execution_count": 10,
   "metadata": {
    "collapsed": false
   },
   "outputs": [],
   "source": [
    "#模型训练及相关参数\r\n",
    "model.train(\r\n",
    "    num_epochs=270,\r\n",
    "    train_dataset=train_dataset,\r\n",
    "    train_batch_size=2,\r\n",
    "    eval_dataset=eval_dataset,\r\n",
    "    learning_rate=0.001 / 8,\r\n",
    "    warmup_steps=1000,\r\n",
    "    warmup_start_lr=0.0,\r\n",
    "    save_interval_epochs=1,\r\n",
    "    lr_decay_epochs=[210,240],\r\n",
    "    save_dir='output/yolov3_mobilenet',\r\n",
    "    use_vdl='ture'\r\n",
    "    )"
   ]
  },
  {
   "cell_type": "markdown",
   "metadata": {
    "collapsed": false
   },
   "source": [
    "# 五、模型检测\n",
    "生成result.txt记录结果"
   ]
  },
  {
   "cell_type": "code",
   "execution_count": 17,
   "metadata": {
    "collapsed": false
   },
   "outputs": [
    {
     "name": "stdout",
     "output_type": "stream",
     "text": [
      "2021-08-14 13:39:37 [INFO]\tModel[YOLOv3] loaded.\n",
      "[{'category_id': 0, 'bbox': [12.215591430664062, 9.11328125, 72.35735321044922, 86.78556823730469], 'score': 0.9977337121963501, 'category': 'go'}]\n"
     ]
    }
   ],
   "source": [
    "image_name = 'test1.jpg'\r\n",
    "# 模型保存位置\r\n",
    "model = pdx.load_model('output/yolov3_mobilenet/best_model')\r\n",
    "\r\n",
    "img = cv2.imread(image_name)\r\n",
    "result = model.predict(img)\r\n",
    "\r\n",
    "\r\n",
    "keep_results = []\r\n",
    "areas = []\r\n",
    "f = open('./output/yolov3_mobilenet/result.txt', 'a')\r\n",
    "for dt in np.array(result):\r\n",
    "    cname, bbox, score = dt['category'], dt['bbox'], dt['score']\r\n",
    "    if score < 0.5:                    #准确率低于0.5的结果不记录\r\n",
    "        continue\r\n",
    "    keep_results.append(dt)\r\n",
    "    f.write(str(dt) + '\\n')\r\n",
    "    f.write('\\n')\r\n",
    "    areas.append(bbox[2] * bbox[3])\r\n",
    "areas = np.asarray(areas)\r\n",
    "sorted_idxs = np.argsort(-areas).tolist()\r\n",
    "keep_results = [keep_results[k]\r\n",
    "                for k in sorted_idxs] if len(keep_results) > 0 else []\r\n",
    "print(keep_results)\r\n",
    "f.close()\r\n"
   ]
  },
  {
   "cell_type": "markdown",
   "metadata": {
    "collapsed": false
   },
   "source": [
    "# 六、模型导出\n",
    "模型导出结果位于inference_model文件中"
   ]
  },
  {
   "cell_type": "code",
   "execution_count": 18,
   "metadata": {
    "collapsed": false
   },
   "outputs": [
    {
     "name": "stdout",
     "output_type": "stream",
     "text": [
      "/opt/conda/envs/python35-paddle120-env/lib/python3.7/site-packages/paddle/fluid/layers/utils.py:26: DeprecationWarning: `np.int` is a deprecated alias for the builtin `int`. To silence this warning, use `int` by itself. Doing this will not modify any behavior and is safe. When replacing `np.int`, you may wish to use e.g. `np.int64` or `np.int32` to specify the precision. If you wish to review your current use, check the release note link for additional information.\n",
      "Deprecated in NumPy 1.20; for more details and guidance: https://numpy.org/devdocs/release/1.20.0-notes.html#deprecations\n",
      "  def convert_to_list(value, n, name, dtype=np.int):\n",
      "W0814 13:39:48.074692 18445 device_context.cc:362] Please NOTE: device: 0, GPU Compute Capability: 7.0, Driver API Version: 10.1, Runtime API Version: 10.1\n",
      "W0814 13:39:48.080101 18445 device_context.cc:372] device: 0, cuDNN Version: 7.6.\n",
      "2021-08-14 13:39:54 [INFO]\tModel[YOLOv3] loaded.\n",
      "2021-08-14 13:39:54 [INFO]\tModel for inference deploy saved in ./inference_model.\n"
     ]
    }
   ],
   "source": [
    "!paddlex --export_inference --model_dir=output/yolov3_mobilenet/best_model --save_dir=./inference_model"
   ]
  },
  {
   "cell_type": "code",
   "execution_count": 22,
   "metadata": {
    "collapsed": false
   },
   "outputs": [
    {
     "name": "stdout",
     "output_type": "stream",
     "text": [
      "2021-08-14 17:00:16 [INFO]\tModel[YOLOv3] loaded.\n",
      "[{'category_id': 2, 'bbox': [40.19819641113281, 4.5550384521484375, 236.24424743652344, 326.36256408691406], 'score': 0.7120453119277954, 'category': 'pause'}]\n"
     ]
    }
   ],
   "source": [
    "#测试导出模型\r\n",
    "image_name = 'test1.jpg'\r\n",
    "# 模型保存位置\r\n",
    "model = pdx.load_model('inference_model')\r\n",
    "\r\n",
    "img = cv2.imread(image_name)\r\n",
    "result = model.predict(img)\r\n",
    "\r\n",
    "\r\n",
    "keep_results = []\r\n",
    "areas = []\r\n",
    "f = open('./output/yolov3_mobilenet/result.txt', 'a')\r\n",
    "for dt in np.array(result):\r\n",
    "    cname, bbox, score = dt['category'], dt['bbox'], dt['score']\r\n",
    "    if score < 0.3:\r\n",
    "        continue\r\n",
    "    keep_results.append(dt)\r\n",
    "    f.write(str(dt) + '\\n')\r\n",
    "    f.write('\\n')\r\n",
    "    areas.append(bbox[2] * bbox[3])\r\n",
    "areas = np.asarray(areas)\r\n",
    "sorted_idxs = np.argsort(-areas).tolist()\r\n",
    "keep_results = [keep_results[k]\r\n",
    "                for k in sorted_idxs] if len(keep_results) > 0 else []\r\n",
    "print(keep_results)\r\n",
    "f.close()\r\n"
   ]
  },
  {
   "cell_type": "markdown",
   "metadata": {
    "collapsed": false
   },
   "source": [
    "# 七、结果可视化\n",
    "导出测试结果位于根目录下"
   ]
  },
  {
   "cell_type": "code",
   "execution_count": 32,
   "metadata": {
    "collapsed": false
   },
   "outputs": [
    {
     "name": "stdout",
     "output_type": "stream",
     "text": [
      "2021-08-14 13:50:35 [INFO]\tThe visualized result is saved as ./visualize_1628920235278.jpg\n"
     ]
    }
   ],
   "source": [
    "#结果可视化\r\n",
    "image_name = 'test1.jpg'\r\n",
    "img = cv2.imread(image_name)\r\n",
    "pdx.det.visualize(img, result, threshold=0, save_dir='./', color=None)"
   ]
  },
  {
   "cell_type": "code",
   "execution_count": 33,
   "metadata": {
    "collapsed": false
   },
   "outputs": [
    {
     "name": "stdout",
     "output_type": "stream",
     "text": [
      "  adding: inference_model/ (stored 0%)\n",
      "  adding: inference_model/.success (stored 0%)\n",
      "  adding: inference_model/__params__ (deflated 7%)\n",
      "  adding: inference_model/model.yml (deflated 50%)\n",
      "  adding: inference_model/__model__ (deflated 96%)\n"
     ]
    }
   ],
   "source": [
    "#模型生成压缩包 下载到本地部署\r\n",
    "!zip -r inference_model.zip inference_model"
   ]
  },
  {
   "cell_type": "markdown",
   "metadata": {
    "collapsed": false
   },
   "source": [
    "# 八、本地简单部署成果\n",
    "[视频](https://www.bilibili.com/video/BV1uM4y1L763/)\n",
    "<iframe style=\"width:100%;height: 640px;\" src=\"//player.bilibili.com/player.html?aid=588161536&bvid=BV1uM4y1L763&cid=340211724&page=1\" scrolling=\"no\" border=\"0\" frameborder=\"no\" framespacing=\"0\" allowfullscreen=\"true\"> \n"
   ]
  },
  {
   "cell_type": "markdown",
   "metadata": {
    "collapsed": false
   },
   "source": [
    "#音乐播放器代码位于data/Music Player.zip中\n",
    "[代码来源](https://blog.csdn.net/qq_44614026/article/details/88833953?ops_request_misc=%257B%2522request%255Fid%2522%253A%2522162895165116780265427641%2522%252C%2522scm%2522%253A%252220140713.130102334.pc%255Fall.%2522%257D&request_id=162895165116780265427641&biz_id=0&utm_medium=distribute.pc_search_result.none-task-blog-2~all~first_rank_ecpm_v1~rank_v29-2-88833953.ecpm_v1_rank_v29&utm_term=python%E9%9F%B3%E4%B9%90%E6%92%AD%E6%94%BE%E5%99%A8&spm=1018.2226.3001.4187)\n",
    "项目中的音乐播放器在仅在上述播放器基础上添加了手势识别功能\n"
   ]
  },
  {
   "cell_type": "markdown",
   "metadata": {
    "collapsed": false
   },
   "source": [
    "# 九、开发过程遇到的问题\n",
    "1. 模型精确度不够高，容易出现错误的识别，影响对播放器的操控。------要训练更精确、高效的模型\n",
    "2. 摄像头读取信息，并交由模型检测的过程需要一定时间，最终导致摄像头读取的帧数堆积，在cv2.imshow('frame', new_img)时，实时图像延迟严重--------------------网上解决办法：采用多线程，一个进程展示实时图像，一个进程进行数据处理，输出结果。\n"
   ]
  },
  {
   "cell_type": "markdown",
   "metadata": {
    "collapsed": false
   },
   "source": [
    "# 十、总结\n",
    "1. 模型训练调参是提高模型精确度的关键，本项目的模型准确度不高，当有外界干扰时，很难做出准确的判断。\n",
    "2. 本地部署环境配置很复杂，远比在aistudio上开发困难\n",
    "3. 要全面发展，运用多线程，解决图像延迟问题。"
   ]
  }
 ],
 "metadata": {
  "kernelspec": {
   "display_name": "PaddlePaddle 2.0.0b0 (Python 3.5)",
   "language": "python",
   "name": "py35-paddle1.2.0"
  },
  "language_info": {
   "codemirror_mode": {
    "name": "ipython",
    "version": 3
   },
   "file_extension": ".py",
   "mimetype": "text/x-python",
   "name": "python",
   "nbconvert_exporter": "python",
   "pygments_lexer": "ipython3",
   "version": "3.7.4"
  }
 },
 "nbformat": 4,
 "nbformat_minor": 1
}
